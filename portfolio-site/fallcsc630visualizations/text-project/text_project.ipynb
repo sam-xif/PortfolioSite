{
 "cells": [
  {
   "cell_type": "code",
   "execution_count": 1,
   "metadata": {
    "collapsed": true
   },
   "outputs": [],
   "source": [
    "# Imports\n",
    "\n",
    "import requests\n",
    "import re\n",
    "from bs4 import BeautifulSoup\n",
    "import time\n",
    "from tqdm import tqdm\n",
    "import string\n",
    "import numpy as np"
   ]
  },
  {
   "cell_type": "markdown",
   "metadata": {},
   "source": [
    "# Data Acquisition"
   ]
  },
  {
   "cell_type": "code",
   "execution_count": 5,
   "metadata": {
    "collapsed": false
   },
   "outputs": [],
   "source": [
    "def getArticlesOnPage(page):\n",
    "    req = requests.get(\"http://phillipian.net/news/page/{}\".format(page))\n",
    "    soup = BeautifulSoup(req.text, 'lxml')\n",
    "    articles = soup.find_all('article')\n",
    "    links = []\n",
    "    for a in articles:\n",
    "        links.append(a.find(class_='entry-title').a['href'])\n",
    "        \n",
    "    texts = []\n",
    "    for l in links:\n",
    "        req = requests.get(l)\n",
    "        soup = BeautifulSoup(req.text, 'lxml')\n",
    "        texts.append((soup.find(class_='entry-content').text, soup.find(class_='entry-tools').span.text))\n",
    "        \n",
    "    return texts"
   ]
  },
  {
   "cell_type": "code",
   "execution_count": null,
   "metadata": {
    "collapsed": false
   },
   "outputs": [],
   "source": [
    "pages = 400\n",
    "articles = []\n",
    "for i in tqdm(range(1, pages)):\n",
    "    articles.extend(getArticlesOnPage(i))"
   ]
  },
  {
   "cell_type": "code",
   "execution_count": null,
   "metadata": {
    "collapsed": false
   },
   "outputs": [],
   "source": [
    "with open('articles_more.txt', 'wb+') as f:\n",
    "    f.write(str(articles).encode('utf-8'))"
   ]
  },
  {
   "cell_type": "markdown",
   "metadata": {},
   "source": [
    "# Data Processing\n",
    "\n",
    "### Run from here to avoid downloading all the articles again"
   ]
  },
  {
   "cell_type": "code",
   "execution_count": 2,
   "metadata": {
    "collapsed": true
   },
   "outputs": [],
   "source": [
    "with open('articles.txt', 'rb') as f:\n",
    "    filetext = f.read().decode('utf-8')"
   ]
  },
  {
   "cell_type": "code",
   "execution_count": 3,
   "metadata": {
    "collapsed": true
   },
   "outputs": [],
   "source": [
    "from nltk.stem.porter import *\n",
    "from nltk.corpus import stopwords\n",
    "from nltk import word_tokenize\n",
    "from collections import Counter\n",
    "\n",
    "def processtext(text, custom_stopwords):\n",
    "    punc = string.punctuation + '\"\\''\n",
    "    text = text.encode('utf-8').decode('ascii', errors='ignore')\n",
    "    text = text.lower()\n",
    "    text = re.sub(r'\\s+', ' ', text)\n",
    "    stopwords_ = stopwords.words('english')\n",
    "    words = [x for x in word_tokenize(text.strip()) if x not in stopwords_ and x not in punc]\n",
    "    stemmer = PorterStemmer()\n",
    "    words = [stemmer.stem(x) for x in words]\n",
    "    words = [x for x in words if x not in custom_stopwords]\n",
    "    return words"
   ]
  },
  {
   "cell_type": "code",
   "execution_count": 4,
   "metadata": {
    "collapsed": false
   },
   "outputs": [],
   "source": [
    "months = {\n",
    "    'jan': 0, 0: 'Jan',\n",
    "    'feb': 1, 1: 'Feb',\n",
    "    'mar': 2, 2: 'Mar',\n",
    "    'apr': 3, 3: 'Apr',\n",
    "    'may': 4, 4: 'May',\n",
    "    'jun': 5, 5: 'Jun',\n",
    "    'jul': 6, 6: 'Jul',\n",
    "    'aug': 7, 7: 'Aug',\n",
    "    'sep': 8, 8: 'Sep',\n",
    "    'oct': 9, 9: 'Oct',\n",
    "    'nov': 10, 10: 'Nov',\n",
    "    'dec': 11, 11: 'Dec'\n",
    "}\n",
    "\n",
    "def sortDates(dates):\n",
    "    nums = [months[d[0].lower()] + (int(d[1]) * 10) for d in dates]\n",
    "    nums.sort()\n",
    "    \n",
    "def convertDateToNum(date):\n",
    "    return (months[date[0].lower()], (int(date[1])))\n",
    "\n",
    "def convertNumToDate(num):\n",
    "    year = int(num[1]) # Truncate\n",
    "    month = months[num[0]]\n",
    "    return str(month) + \", \" + str(year)\n",
    "\n",
    "def rms(nums):\n",
    "    avg = sum(nums) / len(nums)\n",
    "    return sqrt(sum([(x-avg)**2 for x in nums]) / len(nums))\n",
    "    \n",
    "    "
   ]
  },
  {
   "cell_type": "code",
   "execution_count": 5,
   "metadata": {
    "collapsed": false
   },
   "outputs": [
    {
     "name": "stderr",
     "output_type": "stream",
     "text": [
      "100%|███████████████████████████████████████████████████████████████████████████████████████████████████████████████████████████████████| 995/995 [00:12<00:00, 80.98it/s]\n"
     ]
    }
   ],
   "source": [
    "articles = eval(filetext)\n",
    "words = {}\n",
    "per_article_words = {}\n",
    "custom_stopwords = ['student', 'said', 'realli', 'school', 'andov']\n",
    "for i in tqdm(range(len(articles))):\n",
    "    text = processtext(articles[i][0], custom_stopwords)\n",
    "    per_article_words[articles[i][1]] = text\n",
    "    \n",
    "    splits = articles[i][1].split(' ')\n",
    "    year = convertDateToNum((splits[0], splits[-1]))\n",
    "    if year not in words:\n",
    "        words[year] = []\n",
    "    words[year].extend(text)"
   ]
  },
  {
   "cell_type": "code",
   "execution_count": 6,
   "metadata": {
    "collapsed": false
   },
   "outputs": [
    {
     "name": "stdout",
     "output_type": "stream",
     "text": [
      "Populating the interactive namespace from numpy and matplotlib\n"
     ]
    },
    {
     "name": "stderr",
     "output_type": "stream",
     "text": [
      "WARNING: pylab import has clobbered these variables: ['text', 'f']\n",
      "`%matplotlib` prevents importing * from pylab and numpy\n"
     ]
    }
   ],
   "source": [
    "import matplotlib.pyplot as plt\n",
    "import seaborn as sns\n",
    "\n",
    "%pylab inline\n",
    "pylab.rcParams['figure.figsize'] = (15, 10)"
   ]
  },
  {
   "cell_type": "code",
   "execution_count": 7,
   "metadata": {
    "collapsed": false
   },
   "outputs": [],
   "source": [
    "def completeData(data, numDataCols):\n",
    "    i = 1\n",
    "    all_months = set([0, 1, 2, 3, 4, 5, 6, 7, 8, 9, 10, 11])\n",
    "    dates = {}\n",
    "    for d in data:\n",
    "        if d[0][1] not in dates:\n",
    "            dates[d[0][1]] = [d[0][0]]\n",
    "        else:\n",
    "            dates[d[0][1]].append(d[0][0])\n",
    "        \n",
    "    for year in dates:\n",
    "        months = set(dates[year])\n",
    "        needed_months = all_months - months\n",
    "        for month in needed_months:\n",
    "            data.append([(month, year), *[0 for x in range(numDataCols)]])"
   ]
  },
  {
   "cell_type": "code",
   "execution_count": 8,
   "metadata": {
    "collapsed": false
   },
   "outputs": [
    {
     "data": {
      "image/png": "[encoded data removed]",
      "text/plain": [
       "<matplotlib.figure.Figure at 0x1d1e9f92fd0>"
      ]
     },
     "metadata": {},
     "output_type": "display_data"
    }
   ],
   "source": [
    "counts = []\n",
    "for i in sorted(list(words.keys())):\n",
    "    \n",
    "    # Common word percent\n",
    "    c_common = Counter(words[i])\n",
    "    count1 = sum([x[1] for x in c_common.most_common(100)])\n",
    "    #counts.append((i, count, len(words[i])))\n",
    "    \n",
    "    # Pairwise variance\n",
    "    pairs = list(zip(words[i], words[i][1:]))\n",
    "    length = len(pairs)\n",
    "    c_pairs = Counter(pairs)\n",
    "    count2 = sum([x[1] for x in c_pairs.most_common(100)])\n",
    "    \n",
    "    # Word variance\n",
    "    unique_count = len(set(words[i]))\n",
    "    variance = 100 * (unique_count / len(words[i]))\n",
    "    \n",
    "    counts.append((i, count1, len(words[i]), count2, length, variance))\n",
    "    \n",
    "datapts = [[c[0], 100 * (c[1] / c[2]), c[2], 100 * (c[3] / c[4]), c[5]] for c in counts]\n",
    "completeData(datapts, 4)\n",
    "datapts.sort(key=lambda x: x[0][0] + (x[0][1] * 100))\n",
    "\n",
    "positions = np.arange(len(datapts))\n",
    "\n",
    "numpts = 20\n",
    "plt.bar(positions[0:numpts], [x[1] for x in datapts][0:numpts])\n",
    "plt.xticks(positions[0:numpts], [convertNumToDate(x[0]) for x in datapts][0:numpts], rotation=45)\n",
    "plt.show()"
   ]
  },
  {
   "cell_type": "code",
   "execution_count": 9,
   "metadata": {
    "collapsed": false
   },
   "outputs": [
    {
     "data": {
      "image/png": "[encoded data removed]",
      "text/plain": [
       "<matplotlib.figure.Figure at 0x1d1e9f82ba8>"
      ]
     },
     "metadata": {},
     "output_type": "display_data"
    }
   ],
   "source": [
    "numpts = 20\n",
    "plt.bar(positions[0:numpts], [x[2] for x in datapts][0:numpts])\n",
    "plt.xticks(positions[0:numpts], [convertNumToDate(x[0]) for x in datapts][0:numpts], rotation=45)\n",
    "plt.show()"
   ]
  },
  {
   "cell_type": "code",
   "execution_count": 10,
   "metadata": {
    "collapsed": false
   },
   "outputs": [
    {
     "data": {
      "image/png": "[encoded data removed]",
      "text/plain": [
       "<matplotlib.figure.Figure at 0x1d1ea103f28>"
      ]
     },
     "metadata": {},
     "output_type": "display_data"
    }
   ],
   "source": [
    "\n",
    "positions = np.arange(len(datapts))\n",
    "\n",
    "#plt.plot([x[0] for i, x in enumerate(datapts)][0:9], [x[1] for x in datapts][0:9])\\\n",
    "numpts = 60\n",
    "plt.bar(positions[0:numpts], [x[1] for x in datapts][0:numpts])\n",
    "plt.xticks(positions[0:numpts], [convertNumToDate(x[0]) for x in datapts][0:numpts], rotation=45)\n",
    "plt.show()"
   ]
  },
  {
   "cell_type": "code",
   "execution_count": 11,
   "metadata": {
    "collapsed": false
   },
   "outputs": [],
   "source": [
    "import pandas as pd\n",
    "\n",
    "df = pd.DataFrame(columns=['Date', 'Word Distribution', 'Word Count', 'Pair Variance', 'Word Variance'])\n",
    "for d in datapts[1:]:\n",
    "    df.loc[df.shape[0]] = [convertNumToDate(d[0]), d[1], d[2], d[3], d[4]]"
   ]
  },
  {
   "cell_type": "code",
   "execution_count": 12,
   "metadata": {
    "collapsed": false
   },
   "outputs": [
    {
     "data": {
      "text/html": [
       "<div>\n",
       "<table border=\"1\" class=\"dataframe\">\n",
       "  <thead>\n",
       "    <tr style=\"text-align: right;\">\n",
       "      <th></th>\n",
       "      <th>Date</th>\n",
       "      <th>Word Distribution</th>\n",
       "      <th>Word Count</th>\n",
       "      <th>Pair Variance</th>\n",
       "      <th>Word Variance</th>\n",
       "    </tr>\n",
       "  </thead>\n",
       "  <tbody>\n",
       "    <tr>\n",
       "      <th>0</th>\n",
       "      <td>Feb, 2013</td>\n",
       "      <td>30.571800</td>\n",
       "      <td>9234.0</td>\n",
       "      <td>7.473194</td>\n",
       "      <td>21.193416</td>\n",
       "    </tr>\n",
       "    <tr>\n",
       "      <th>1</th>\n",
       "      <td>Mar, 2013</td>\n",
       "      <td>33.835182</td>\n",
       "      <td>2524.0</td>\n",
       "      <td>10.186286</td>\n",
       "      <td>42.234548</td>\n",
       "    </tr>\n",
       "    <tr>\n",
       "      <th>2</th>\n",
       "      <td>Apr, 2013</td>\n",
       "      <td>26.296296</td>\n",
       "      <td>14040.0</td>\n",
       "      <td>4.893511</td>\n",
       "      <td>21.182336</td>\n",
       "    </tr>\n",
       "    <tr>\n",
       "      <th>3</th>\n",
       "      <td>May, 2013</td>\n",
       "      <td>27.070467</td>\n",
       "      <td>13439.0</td>\n",
       "      <td>5.149576</td>\n",
       "      <td>21.177171</td>\n",
       "    </tr>\n",
       "    <tr>\n",
       "      <th>4</th>\n",
       "      <td>Jun, 2013</td>\n",
       "      <td>0.000000</td>\n",
       "      <td>0.0</td>\n",
       "      <td>0.000000</td>\n",
       "      <td>0.000000</td>\n",
       "    </tr>\n",
       "  </tbody>\n",
       "</table>\n",
       "</div>"
      ],
      "text/plain": [
       "        Date  Word Distribution  Word Count  Pair Variance  Word Variance\n",
       "0  Feb, 2013          30.571800      9234.0       7.473194      21.193416\n",
       "1  Mar, 2013          33.835182      2524.0      10.186286      42.234548\n",
       "2  Apr, 2013          26.296296     14040.0       4.893511      21.182336\n",
       "3  May, 2013          27.070467     13439.0       5.149576      21.177171\n",
       "4  Jun, 2013           0.000000         0.0       0.000000       0.000000"
      ]
     },
     "execution_count": 12,
     "metadata": {},
     "output_type": "execute_result"
    }
   ],
   "source": [
    "df.head()"
   ]
  },
  {
   "cell_type": "code",
   "execution_count": 13,
   "metadata": {
    "collapsed": true
   },
   "outputs": [],
   "source": [
    "df.to_csv(\"phillipian_data.csv\")"
   ]
  },
  {
   "cell_type": "code",
   "execution_count": 14,
   "metadata": {
    "collapsed": false
   },
   "outputs": [
    {
     "data": {
      "text/plain": [
       "(59, 5)"
      ]
     },
     "execution_count": 14,
     "metadata": {},
     "output_type": "execute_result"
    }
   ],
   "source": [
    "df.shape"
   ]
  },
  {
   "cell_type": "markdown",
   "metadata": {},
   "source": [
    "Data collection for the per-article data:"
   ]
  },
  {
   "cell_type": "code",
   "execution_count": 15,
   "metadata": {
    "collapsed": false
   },
   "outputs": [],
   "source": [
    "counts = []\n",
    "for key in per_article_words.keys():\n",
    "    w = per_article_words[key]\n",
    "    unique_words = len(list(set(w)))\n",
    "    variation = unique_words / len(w)\n",
    "    \n",
    "    # Remove articles with fewer than 50 words to prevent the really short anomalies from skewing the data\n",
    "    if len(w) > 50:\n",
    "        counts.append((key, variation))"
   ]
  },
  {
   "cell_type": "code",
   "execution_count": 16,
   "metadata": {
    "collapsed": false
   },
   "outputs": [],
   "source": [
    "def convertFullDateToNum(datestr):\n",
    "    regex = r'^([a-zA-Z]{3}) ([0-9]+), ([0-9]+)\\s*$'\n",
    "    match = re.match(regex, datestr)\n",
    "    if match is None:\n",
    "        return False\n",
    "    \n",
    "    monthNum = months[match.group(1).lower()]\n",
    "    dayNum = int(match.group(2))\n",
    "    yearNum = int(match.group(3))\n",
    "    return yearNum * 10000 + monthNum * 100 + dayNum\n",
    "\n",
    "def convertNumToFullDate(num):\n",
    "    dayNum = num % 100\n",
    "    monthNum = (num // 100) % 100\n",
    "    yearNum = (num // 10000)\n",
    "    \n",
    "    return months[monthNum] + ' ' + str(dayNum) + ', ' + str(yearNum)"
   ]
  },
  {
   "cell_type": "code",
   "execution_count": 17,
   "metadata": {
    "collapsed": true
   },
   "outputs": [],
   "source": [
    "counts.sort(key=lambda x: convertFullDateToNum(x[0]))"
   ]
  },
  {
   "cell_type": "code",
   "execution_count": 18,
   "metadata": {
    "collapsed": false
   },
   "outputs": [],
   "source": [
    "df2 = pd.DataFrame(columns=['Date', 'Word Variance'])\n",
    "for d in counts[1:]:\n",
    "    df2.loc[df2.shape[0]] = [d[0], d[1]]"
   ]
  },
  {
   "cell_type": "code",
   "execution_count": 19,
   "metadata": {
    "collapsed": true
   },
   "outputs": [],
   "source": [
    "df2.to_csv('phillipian_data_per_article.csv')"
   ]
  },
  {
   "cell_type": "code",
   "execution_count": 20,
   "metadata": {
    "collapsed": false
   },
   "outputs": [
    {
     "data": {
      "text/plain": [
       "(195, 2)"
      ]
     },
     "execution_count": 20,
     "metadata": {},
     "output_type": "execute_result"
    }
   ],
   "source": [
    "df2.shape"
   ]
  }
 ],
 "metadata": {
  "anaconda-cloud": {},
  "kernelspec": {
   "display_name": "Python [Root]",
   "language": "python",
   "name": "Python [Root]"
  },
  "language_info": {
   "codemirror_mode": {
    "name": "ipython",
    "version": 3
   },
   "file_extension": ".py",
   "mimetype": "text/x-python",
   "name": "python",
   "nbconvert_exporter": "python",
   "pygments_lexer": "ipython3",
   "version": "3.5.2"
  }
 },
 "nbformat": 4,
 "nbformat_minor": 0
}
